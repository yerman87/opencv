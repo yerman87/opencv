{
 "cells": [
  {
   "cell_type": "code",
   "execution_count": 1,
   "metadata": {
    "collapsed": true
   },
   "outputs": [],
   "source": [
    "import numpy as np"
   ]
  },
  {
   "cell_type": "code",
   "execution_count": 1,
   "metadata": {
    "collapsed": true
   },
   "outputs": [],
   "source": [
    "import cv2"
   ]
  },
  {
   "cell_type": "code",
   "execution_count": null,
   "metadata": {
    "collapsed": false
   },
   "outputs": [],
   "source": [
    "\n",
    " \n",
    "import cv2\n",
    "import numpy as np\n",
    " \n",
    "\n",
    "captura = cv2.VideoCapture(0)\n",
    " \n",
    "while(1):\n",
    "     \n",
    "    \n",
    "    _, imagen = captura.read()\n",
    "    hsv = cv2.cvtColor(imagen, cv2.COLOR_BGR2HSV)\n",
    " \n",
    "   \n",
    "    verde_bajos = np.array([0,0,255], dtype=np.uint8)\n",
    "    verde_altos = np.array([80, 255, 255], dtype=np.uint8)\n",
    " \n",
    "    \n",
    "    mask = cv2.inRange(hsv, verde_bajos, verde_altos)\n",
    " \n",
    "    \n",
    "    moments = cv2.moments(mask)\n",
    "    area = moments['m00']\n",
    " \n",
    "    \n",
    "    if(area > 2000000):\n",
    "         \n",
    "       \n",
    "        x = int(moments['m10']/moments['m00'])\n",
    "        y = int(moments['m01']/moments['m00'])\n",
    "         \n",
    "        \n",
    "        print \"x = \", x\n",
    "        print \"y = \", y\n",
    " \n",
    "        \n",
    "        cv2.rectangle(imagen, (x, y), (x+2, y+2),(0,0,255), 2)\n",
    "     \n",
    "     \n",
    "    cv2.imshow('mask', mask)\n",
    "    cv2.imshow('Camara', imagen)\n",
    "    tecla = cv2.waitKey(5) & 0xFF\n",
    "    if tecla == 27:\n",
    "        break\n",
    " \n",
    "cv2.destroyAllWindows()\n"
   ]
  },
  {
   "cell_type": "code",
   "execution_count": null,
   "metadata": {
    "collapsed": true
   },
   "outputs": [],
   "source": []
  }
 ],
 "metadata": {
  "anaconda-cloud": {},
  "kernelspec": {
   "display_name": "Python [Root]",
   "language": "python",
   "name": "Python [Root]"
  },
  "language_info": {
   "codemirror_mode": {
    "name": "ipython",
    "version": 2
   },
   "file_extension": ".py",
   "mimetype": "text/x-python",
   "name": "python",
   "nbconvert_exporter": "python",
   "pygments_lexer": "ipython2",
   "version": "2.7.12"
  }
 },
 "nbformat": 4,
 "nbformat_minor": 0
}
